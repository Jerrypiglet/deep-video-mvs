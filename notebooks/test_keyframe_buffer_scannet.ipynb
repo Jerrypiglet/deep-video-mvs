{
 "cells": [
  {
   "cell_type": "markdown",
   "metadata": {},
   "source": [
    "Based on dvmvs/pairnet/run-testing-online.py and dvmvs/simulate_keyframe_buffer.py"
   ]
  },
  {
   "cell_type": "code",
   "execution_count": 1,
   "metadata": {},
   "outputs": [],
   "source": [
    "%reload_ext autoreload\n",
    "%autoreload 2\n",
    "\n",
    "import cv2\n",
    "import numpy as np\n",
    "import torch\n",
    "from path import Path\n",
    "from tqdm import tqdm\n",
    "\n",
    "import sys\n",
    "sys.path.insert(0, '/home/ruizhu/Documents/Projects/ml-finerecon/third-party/deep-video-mvs')\n",
    "\n",
    "from dvmvs.config import Config\n",
    "from dvmvs.keyframe_buffer import KeyframeBuffer"
   ]
  },
  {
   "cell_type": "code",
   "execution_count": 1,
   "metadata": {},
   "outputs": [
    {
     "name": "stderr",
     "output_type": "stream",
     "text": [
      "  0%|          | 0/1 [00:00<?, ?it/s]\n"
     ]
    },
    {
     "ename": "NameError",
     "evalue": "name 'KeyframeBuffer' is not defined",
     "output_type": "error",
     "traceback": [
      "\u001b[0;31m---------------------------------------------------------------------------\u001b[0m",
      "\u001b[0;31mNameError\u001b[0m                                 Traceback (most recent call last)",
      "Cell \u001b[0;32mIn[1], line 26\u001b[0m\n\u001b[1;32m     23\u001b[0m image_filenames \u001b[39m=\u001b[39m \u001b[39msorted\u001b[39m((scene_folder \u001b[39m/\u001b[39m \u001b[39m'\u001b[39m\u001b[39mcolor\u001b[39m\u001b[39m'\u001b[39m)\u001b[39m.\u001b[39mglob(\u001b[39m\"\u001b[39m\u001b[39m*.jpg\u001b[39m\u001b[39m\"\u001b[39m))\n\u001b[1;32m     24\u001b[0m \u001b[39massert\u001b[39;00m \u001b[39mlen\u001b[39m(poses) \u001b[39m==\u001b[39m \u001b[39mlen\u001b[39m(image_filenames), \u001b[39mf\u001b[39m\u001b[39m'\u001b[39m\u001b[39mlen(poses): \u001b[39m\u001b[39m{\u001b[39;00m\u001b[39mlen\u001b[39m(poses)\u001b[39m}\u001b[39;00m\u001b[39m, len(image_filenames): \u001b[39m\u001b[39m{\u001b[39;00m\u001b[39mlen\u001b[39m(image_filenames)\u001b[39m}\u001b[39;00m\u001b[39m'\u001b[39m\n\u001b[0;32m---> 26\u001b[0m keyframe_buffer \u001b[39m=\u001b[39m KeyframeBuffer(buffer_size\u001b[39m=\u001b[39mConfig\u001b[39m.\u001b[39mtest_keyframe_buffer_size,\n\u001b[1;32m     27\u001b[0m                             keyframe_pose_distance\u001b[39m=\u001b[39mConfig\u001b[39m.\u001b[39mtest_keyframe_pose_distance,\n\u001b[1;32m     28\u001b[0m                             optimal_t_score\u001b[39m=\u001b[39mConfig\u001b[39m.\u001b[39mtest_optimal_t_measure,\n\u001b[1;32m     29\u001b[0m                             optimal_R_score\u001b[39m=\u001b[39mConfig\u001b[39m.\u001b[39mtest_optimal_R_measure,\n\u001b[1;32m     30\u001b[0m                             store_return_indices\u001b[39m=\u001b[39m\u001b[39mTrue\u001b[39;00m)\n\u001b[1;32m     32\u001b[0m output_lines \u001b[39m=\u001b[39m []\n\u001b[1;32m     34\u001b[0m \u001b[39m# poses = poses[:2]\u001b[39;00m\n",
      "\u001b[0;31mNameError\u001b[0m: name 'KeyframeBuffer' is not defined"
     ]
    }
   ],
   "source": [
    "from pathlib import Path\n",
    "from tqdm import tqdm\n",
    "import shutil\n",
    "import numpy as np\n",
    "\n",
    "SCANNET_ROOT = Path('/newfoundland/ScanNet/extracted')\n",
    "SCANNET_LISTS = Path('/home/ruizhu/Documents/Projects/ScanNet/Tasks/Benchmark/')\n",
    "\n",
    "# for split in ['train', 'val', 'test']:\n",
    "for split in ['train']:\n",
    "    scannet_list_path = SCANNET_LISTS / f'scannetv2_{split}.txt'\n",
    "    assert scannet_list_path.exists(), f'{scannet_list_path} does not exist'\n",
    "    with open(scannet_list_path) as f:\n",
    "        scene_names = [line.strip() for line in f.readlines()][:1]\n",
    "        \n",
    "    for scene_name in tqdm(scene_names):\n",
    "        scene_folder = SCANNET_ROOT / scene_name\n",
    "        assert scene_folder.exists(), f'{scene_folder} does not exist'\n",
    "        # poses = np.fromfile(scene_folder / \"poses.txt\", dtype=float, sep=\"\\n \").reshape((-1, 4, 4))\n",
    "        poses = np.load(scene_folder / \"pose.npy\")\n",
    "        assert len(poses.shape)==3 and poses.shape[1:] == (4, 4), f'poses.shape: {poses.shape}'\n",
    "        # image_filenames = sorted((scene_folder / 'images').files(\"*.png\"))\n",
    "        image_filenames = sorted((scene_folder / 'color').glob(\"*.jpg\"))\n",
    "        assert len(poses) == len(image_filenames), f'len(poses): {len(poses)}, len(image_filenames): {len(image_filenames)}'\n",
    "        \n",
    "        keyframe_buffer = KeyframeBuffer(buffer_size=Config.test_keyframe_buffer_size,\n",
    "                                    keyframe_pose_distance=Config.test_keyframe_pose_distance,\n",
    "                                    optimal_t_score=Config.test_optimal_t_measure,\n",
    "                                    optimal_R_score=Config.test_optimal_R_measure,\n",
    "                                    store_return_indices=True)\n",
    "\n",
    "        output_lines = []\n",
    "        \n",
    "        # poses = poses[:2]\n",
    "        for i in range(0, len(poses)):\n",
    "            reference_pose = poses[i]\n",
    "            # print(i, reference_pose)\n",
    "            pose_ = np.fromfile(scene_folder / 'pose' / (\"%d.txt\"%i), dtype=float, sep=\"\\n \").reshape((4, 4))\n",
    "            assert np.allclose(reference_pose, pose_), f'pose_[{i}]: {pose_}, reference_pose: {reference_pose}'\n",
    "\n",
    "            # POLL THE KEYFRAME BUFFER\n",
    "            response = keyframe_buffer.try_new_keyframe(reference_pose, None, index=i)\n",
    "            if response == 3:\n",
    "                output_lines.append(\"TRACKING LOST\")\n",
    "            elif response == 1:\n",
    "                measurement_frames = keyframe_buffer.get_best_measurement_frames(Config.test_n_measurement_frames)\n",
    "                print(i, len(poses), len(measurement_frames[0]), measurement_frames[0])\n",
    "\n",
    "                # output_line = image_filenames[i].split(\"/\")[-1]\n",
    "                output_line = image_filenames[i].name\n",
    "\n",
    "                for (measurement_pose, measurement_image, measurement_index) in measurement_frames:\n",
    "                    output_line += (\" \" + image_filenames[measurement_index].split(\"/\")[-1])\n",
    "\n",
    "                output_line = output_line.strip(\" \")\n",
    "                output_lines.append(output_line)\n",
    "\n",
    "        output_lines = np.array(output_lines)\n",
    "\n",
    "        # dataset_name = test_dataset_path.split(\"/\")[-1]\n",
    "        # np.savetxt('{}/keyframe+{}+{}+nmeas+{}'.format(output_folder, dataset_name, scene, Config.test_n_measurement_frames), output_lines, fmt='%s')\n",
    "\n",
    "\n"
   ]
  },
  {
   "cell_type": "code",
   "execution_count": 10,
   "metadata": {},
   "outputs": [
    {
     "data": {
      "text/plain": [
       "deque([(array([[ 0.246516, -0.470365,  0.847341,  3.043058],\n",
       "               [-0.959136,  0.006886,  0.282862,  2.955299],\n",
       "               [-0.138884, -0.882445, -0.449446,  1.551102],\n",
       "               [ 0.      ,  0.      ,  0.      ,  1.      ]]),\n",
       "        None),\n",
       "       (array([[ 0.142261, -0.460375,  0.876252,  3.032776],\n",
       "               [-0.984932,  0.022112,  0.171522,  2.905943],\n",
       "               [-0.09834 , -0.887449, -0.450292,  1.54547 ],\n",
       "               [ 0.      ,  0.      ,  0.      ,  1.      ]]),\n",
       "        None)],\n",
       "      maxlen=30)"
      ]
     },
     "execution_count": 10,
     "metadata": {},
     "output_type": "execute_result"
    }
   ],
   "source": [
    "keyframe_buffer.buffer"
   ]
  },
  {
   "cell_type": "code",
   "execution_count": null,
   "metadata": {},
   "outputs": [],
   "source": [
    "pose"
   ]
  }
 ],
 "metadata": {
  "kernelspec": {
   "display_name": "dvmvs-env-py310",
   "language": "python",
   "name": "python3"
  },
  "language_info": {
   "codemirror_mode": {
    "name": "ipython",
    "version": 3
   },
   "file_extension": ".py",
   "mimetype": "text/x-python",
   "name": "python",
   "nbconvert_exporter": "python",
   "pygments_lexer": "ipython3",
   "version": "3.10.12"
  },
  "orig_nbformat": 4
 },
 "nbformat": 4,
 "nbformat_minor": 2
}
